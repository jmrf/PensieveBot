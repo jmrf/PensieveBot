{
  "nbformat": 4,
  "nbformat_minor": 0,
  "metadata": {
    "colab": {
      "provenance": [],
      "collapsed_sections": [
        "2_YRR9zHcfln",
        "35ye60P0G_1E"
      ],
      "toc_visible": true,
      "authorship_tag": "ABX9TyNLCSAKfAr+B98lq7h3yXEi",
      "include_colab_link": true
    },
    "kernelspec": {
      "name": "python3",
      "display_name": "Python 3"
    },
    "language_info": {
      "name": "python"
    },
    "accelerator": "GPU"
  },
  "cells": [
    {
      "cell_type": "markdown",
      "metadata": {
        "id": "view-in-github",
        "colab_type": "text"
      },
      "source": [
        "<a href=\"https://colab.research.google.com/gist/jmrf/7711d1f833e49ba27e85c12edc316123/stt-exploratory-telebot.ipynb\" target=\"_parent\"><img src=\"https://colab.research.google.com/assets/colab-badge.svg\" alt=\"Open In Colab\"/></a>"
      ]
    },
    {
      "cell_type": "markdown",
      "source": [
        "# Off-line STT exploratory\n",
        "\n",
        "We explore 3 different options:\n",
        "\n",
        " - [pykaldi]()\n",
        " - Facebook's [wav2letter](https://github.com/flashlight/wav2letter/)\n",
        " - OpenAI's  [whisper](https://github.com/openai/whisper)\n"
      ],
      "metadata": {
        "id": "uT2lztpyRJSC"
      }
    },
    {
      "cell_type": "markdown",
      "source": [
        "## Setup"
      ],
      "metadata": {
        "id": "oavaBVl3cVhG"
      }
    },
    {
      "cell_type": "code",
      "source": [
        "# System common deps\n",
        "!apt-get install -qq \\\n",
        "    sox \\\n",
        "    mediainfo\n",
        "\n",
        "# Python common deps\n",
        "!pip install -qq -U pip\n",
        "!pip install -qq ffmpeg-python sox"
      ],
      "metadata": {
        "id": "m67hDDqqa5Uz",
        "colab": {
          "base_uri": "https://localhost:8080/"
        },
        "outputId": "a01ea75c-4169-43ef-c4b9-631c29e8f60b"
      },
      "execution_count": 9,
      "outputs": [
        {
          "output_type": "stream",
          "name": "stdout",
          "text": [
            "Processing triggers for man-db (2.8.3-2ubuntu0.1) ...\n",
            "Processing triggers for mime-support (3.60ubuntu1) ...\n",
            "\u001b[K     |████████████████████████████████| 2.0 MB 6.9 MB/s \n",
            "\u001b[?25h\u001b[33mWARNING: Running pip as the 'root' user can result in broken permissions and conflicting behaviour with the system package manager. It is recommended to use a virtual environment instead: https://pip.pypa.io/warnings/venv\u001b[0m\u001b[33m\n",
            "\u001b[0m"
          ]
        }
      ]
    },
    {
      "cell_type": "markdown",
      "source": [
        "## Helpers"
      ],
      "metadata": {
        "id": "EXVIr2nJ48KV"
      }
    },
    {
      "cell_type": "code",
      "source": [
        "import os\n",
        "import glob\n",
        "import signal\n",
        "import tempfile\n",
        "\n",
        "from contextlib import contextmanager\n",
        "from subprocess import Popen, PIPE, check_output\n",
        "\n",
        "\n",
        "@contextmanager\n",
        "def timeout(duration: int):\n",
        "    def timeout_handler(signum, frame):\n",
        "        raise Exception(f\"Block timed out after {duration} seconds\")\n",
        "\n",
        "    signal.signal(signal.SIGALRM, timeout_handler)\n",
        "    signal.alarm(duration)\n",
        "    try:\n",
        "        yield\n",
        "    finally:\n",
        "        signal.alarm(0)\n",
        "\n",
        "\n",
        "def create_process(cmd):\n",
        "    process = Popen([cmd],\n",
        "                    stdin=PIPE, stdout=PIPE, stderr=PIPE,\n",
        "                    shell=True, preexec_fn=os.setsid) \n",
        "    return process\n",
        "\n",
        "\n",
        "def read_current_output(process):\n",
        "    stt_symbol = \"|P|:\"\n",
        "    word_separator_symbol = \"|\"\n",
        "\n",
        "    transcripts = []\n",
        "    output = True\n",
        "    while output:\n",
        "        output = process.stdout.readline().decode()\n",
        "        stderr = process.stderr.readline().decode()\n",
        "\n",
        "        if output.startswith(stt_symbol):\n",
        "            output = output.replace(stt_symbol, \"\").split(word_separator_symbol)\n",
        "            words = \" \".join([w.strip().replace(\" \", \"\") for w in output])\n",
        "            transcripts.append(words)\n",
        "\n",
        "    return transcripts"
      ],
      "metadata": {
        "id": "NXLShV5Y4-in"
      },
      "execution_count": 14,
      "outputs": []
    },
    {
      "cell_type": "markdown",
      "source": [
        "## 🤎 PyKaldi"
      ],
      "metadata": {
        "id": "vh0wQ4s4XRUz"
      }
    },
    {
      "cell_type": "markdown",
      "source": [
        "### Setup"
      ],
      "metadata": {
        "id": "2_YRR9zHcfln"
      }
    },
    {
      "cell_type": "code",
      "execution_count": null,
      "metadata": {
        "id": "cp_CYB4NRFvb"
      },
      "outputs": [],
      "source": [
        "!apt-get install -qq -y --no-install-recommends \\\n",
        "    autoconf \\\n",
        "    automake \\\n",
        "    cmake \\\n",
        "    curl \\\n",
        "    gfortran \\\n",
        "    g++\n",
        "\n",
        "!pip install -U -qq pip setuptools\n",
        "!pip install -qq \\\n",
        "    'coloredlogs==15.0.1' \\\n",
        "    'numpy==1.21.4' \\\n",
        "    'pyaudio==0.2.11' \\\n",
        "    'PyYAML==6.0' \\\n",
        "    'rich==10.15.2' \\\n",
        "    'samplerate==0.1.0' \\\n",
        "    'scipy==1.7.3' \\\n",
        "    'git+https://github.com/wkentaro/gdown.git@v4.2.0#egg=gdown'"
      ]
    },
    {
      "cell_type": "code",
      "source": [
        "%%bash\n",
        "\n",
        "cd models/\n",
        "\n",
        "# English model\n",
        "MODEL_FILE=en_160k_nnet3chain_tdnn1f_2048_sp_bi.tar.bz2\n",
        "if [ ! -f $MODEL_FILE ]; then\n",
        "    wget http://ltdata1.informatik.uni-hamburg.de/pykaldi/$MODEL_FILE\n",
        "    tar xvfj $MODEL_FILE\n",
        "    rm $MODEL_FILE\n",
        "fi\n",
        "\n",
        "cd -"
      ],
      "metadata": {
        "id": "XsClxU_xXVT2"
      },
      "execution_count": null,
      "outputs": []
    },
    {
      "cell_type": "markdown",
      "source": [
        "## 🌊 Wav2Letter\n",
        "\n",
        "We use Facebook's [wav2letter](https://github.com/flashlight/wav2letter/tree/main/recipes/mling_pl) and pre-trained models. wav2letter has been consolidated into [flashlight/app/asr](https://github.com/flashlight/flashlight/tree/main/flashlight/app/asr) which requires this [flashlight commit](https://github.com/flashlight/flashlight/tree/8f7af9ec1188bfd7050c47abfac528d21650890f).\n",
        "\n",
        "> 🤓 [wav2vec-unsupervised-speech-recognition blog post](https://ai.facebook.com/blog/wav2vec-unsupervised-speech-recognition-without-supervision)\n",
        "\n",
        "> 💡 [Install and inference colab example](https://github.com/flashlight/wav2letter/blob/main/recipes/mling_pl/mling_model.ipynb)\n"
      ],
      "metadata": {
        "id": "wwfS61AVUB92"
      }
    },
    {
      "cell_type": "markdown",
      "source": [
        "### Setup"
      ],
      "metadata": {
        "id": "8kS68XLvaUmd"
      }
    },
    {
      "cell_type": "code",
      "source": [
        "# First, choose backend to build with\n",
        "MODEL = \"W2L\"\n",
        "backend = 'CUDA' #@param [\"CPU\", \"CUDA\"]"
      ],
      "metadata": {
        "id": "ED0JFFkvYlu9"
      },
      "execution_count": null,
      "outputs": []
    },
    {
      "cell_type": "markdown",
      "source": [
        "#### Compile"
      ],
      "metadata": {
        "id": "35ye60P0G_1E"
      }
    },
    {
      "cell_type": "code",
      "source": [
        "# Clone Flashlight\n",
        "!git clone https://github.com/flashlight/flashlight.git\n",
        "\n",
        "# install all dependencies for colab notebook\n",
        "!source flashlight/scripts/colab/colab_install_deps.sh"
      ],
      "metadata": {
        "id": "viydJlAUZ4Ze"
      },
      "execution_count": null,
      "outputs": []
    },
    {
      "cell_type": "code",
      "source": [
        "# export necessary env variables\n",
        "%env MKLROOT=/opt/intel/mkl\n",
        "%env ArrayFire_DIR=/opt/arrayfire/share/ArrayFire/cmake\n",
        "%env DNNL_DIR=/opt/dnnl/dnnl_lnx_2.0.0_cpu_iomp/lib/cmake/dnnl\n",
        "\n",
        "if backend == \"CUDA\":\n",
        "  # Total time: ~13 minutes\n",
        "  !cd flashlight && git checkout d2e1924cb2a2b32b48cc326bb7e332ca3ea54f67 && mkdir -p build && cd build && \\\n",
        "  cmake .. -DCMAKE_BUILD_TYPE=Release \\\n",
        "           -DFL_BUILD_TESTS=OFF \\\n",
        "           -DFL_BUILD_EXAMPLES=OFF \\\n",
        "           -DFL_BUILD_APP_ASR=ON && \\\n",
        "  make -j$(nproc)\n",
        "\n",
        "elif backend == \"CPU\":\n",
        "  # Total time: ~14 minutes\n",
        "  !cd flashlight && git checkout d2e1924cb2a2b32b48cc326bb7e332ca3ea54f67 && mkdir -p build && cd build && \\\n",
        "  cmake .. -DFL_BACKEND=CPU \\\n",
        "           -DCMAKE_BUILD_TYPE=Release \\\n",
        "           -DFL_BUILD_TESTS=OFF \\\n",
        "           -DFL_BUILD_EXAMPLES=OFF \\\n",
        "           -DFL_BUILD_APP_ASR=ON && \\\n",
        "  make -j$(nproc)\n",
        "  \n",
        "else:\n",
        "  raise ValueError(f\"Unknown backend {backend}\")"
      ],
      "metadata": {
        "id": "lKWaNy0FaKPC",
        "colab": {
          "base_uri": "https://localhost:8080/"
        },
        "outputId": "550c4f84-949d-4442-d755-de7221a0110b"
      },
      "execution_count": null,
      "outputs": [
        {
          "output_type": "stream",
          "name": "stdout",
          "text": [
            "env: MKLROOT=/opt/intel/mkl\n",
            "env: ArrayFire_DIR=/opt/arrayfire/share/ArrayFire/cmake\n",
            "env: DNNL_DIR=/opt/dnnl/dnnl_lnx_2.0.0_cpu_iomp/lib/cmake/dnnl\n",
            "Note: checking out 'd2e1924cb2a2b32b48cc326bb7e332ca3ea54f67'.\n",
            "\n",
            "You are in 'detached HEAD' state. You can look around, make experimental\n",
            "changes and commit them, and you can discard any commits you make in this\n",
            "state without impacting any branches by performing another checkout.\n",
            "\n",
            "If you want to create a new branch to retain commits you create, you may\n",
            "do so (now or later) by using -b with the checkout command again. Example:\n",
            "\n",
            "  git checkout -b <new-branch-name>\n",
            "\n",
            "HEAD is now at d2e1924c Tensor any and all (#685)\n",
            "-- The CXX compiler identification is GNU 7.5.0\n",
            "-- The C compiler identification is GNU 7.5.0\n",
            "-- Check for working CXX compiler: /usr/bin/c++\n",
            "-- Check for working CXX compiler: /usr/bin/c++ -- works\n",
            "-- Detecting CXX compiler ABI info\n",
            "-- Detecting CXX compiler ABI info - done\n",
            "-- Detecting CXX compile features\n",
            "-- Detecting CXX compile features - done\n",
            "-- Check for working C compiler: /usr/bin/cc\n",
            "-- Check for working C compiler: /usr/bin/cc -- works\n",
            "-- Detecting C compiler ABI info\n",
            "-- Detecting C compiler ABI info - done\n",
            "-- Detecting C compile features\n",
            "-- Detecting C compile features - done\n",
            "-- Performing Test COMPILER_SUPPORTS_RDYNAMIC\n",
            "-- Performing Test COMPILER_SUPPORTS_RDYNAMIC - Success\n",
            "-- -rdynamic supported.\n",
            "-- Will build flashlight libraries.\n",
            "-- MKL_THREADING = OMP\n",
            "-- Looking for sys/types.h\n",
            "-- Looking for sys/types.h - found\n",
            "-- Looking for stdint.h\n",
            "-- Looking for stdint.h - found\n",
            "-- Looking for stddef.h\n",
            "-- Looking for stddef.h - found\n",
            "-- Check size of void*\n",
            "-- Check size of void* - done\n",
            "-- Checking for [mkl_intel_lp64 - mkl_gnu_thread - mkl_core - gomp - pthread - m - dl]\n",
            "--   Library mkl_intel_lp64: /opt/intel/mkl/lib/intel64/libmkl_intel_lp64.so\n",
            "--   Library mkl_gnu_thread: /opt/intel/mkl/lib/intel64/libmkl_gnu_thread.so\n",
            "--   Library mkl_core: /opt/intel/mkl/lib/intel64/libmkl_core.so\n",
            "--   Library gomp: -fopenmp\n",
            "--   Library pthread: /usr/lib/x86_64-linux-gnu/libpthread.so\n",
            "--   Library m: /usr/lib/x86_64-linux-gnu/libm.so\n",
            "--   Library dl: /usr/lib/x86_64-linux-gnu/libdl.so\n",
            "-- Looking for cblas_sgemm\n",
            "-- Looking for cblas_sgemm - found\n",
            "-- MKL library found\n",
            "-- CBLAS found (include: /opt/intel/mkl/include, library: /opt/intel/mkl/lib/intel64/libmkl_intel_lp64.so;/opt/intel/mkl/lib/intel64/libmkl_gnu_thread.so;/opt/intel/mkl/lib/intel64/libmkl_core.so;-fopenmp;/usr/lib/x86_64-linux-gnu/libpthread.so;/usr/lib/x86_64-linux-gnu/libm.so;/usr/lib/x86_64-linux-gnu/libdl.so)\n",
            "-- Could NOT find FFTW3 (missing: FFTW3_DIR)\n",
            "-- Found PkgConfig: /usr/bin/pkg-config (found version \"0.29.1\") \n",
            "-- FindFFTW using pkgconfig: FOUND=1 LIBRARIES=fftw3 LIBRARY_DIRS= LIBDIR=/usr/lib/x86_64-linux-gnu LINK_LIBRARIES=\n",
            "-- FindFTTW using pkgconfig: INCLUDE_DIRS= INCLUDEDIR=/usr/include\n",
            "-- Found FFTW3: /usr/include  \n",
            "-- FFTW found\n",
            "-- Found OpenMP_C: -fopenmp (found version \"4.5\") \n",
            "-- Found OpenMP_CXX: -fopenmp (found version \"4.5\") \n",
            "-- Found OpenMP: TRUE (found version \"4.5\")  \n",
            "-- Looking for pthread.h\n",
            "-- Looking for pthread.h - found\n",
            "-- Looking for pthread_create\n",
            "-- Looking for pthread_create - not found\n",
            "-- Looking for pthread_create in pthreads\n",
            "-- Looking for pthread_create in pthreads - not found\n",
            "-- Looking for pthread_create in pthread\n",
            "-- Looking for pthread_create in pthread - found\n",
            "-- Found Threads: TRUE  \n",
            "-- Looking for KenLM\n",
            "-- Looking for lzma_auto_decoder in /usr/lib/x86_64-linux-gnu/liblzma.so\n",
            "-- Looking for lzma_auto_decoder in /usr/lib/x86_64-linux-gnu/liblzma.so - found\n",
            "-- Looking for lzma_easy_encoder in /usr/lib/x86_64-linux-gnu/liblzma.so\n",
            "-- Looking for lzma_easy_encoder in /usr/lib/x86_64-linux-gnu/liblzma.so - found\n",
            "-- Looking for lzma_lzma_preset in /usr/lib/x86_64-linux-gnu/liblzma.so\n",
            "-- Looking for lzma_lzma_preset in /usr/lib/x86_64-linux-gnu/liblzma.so - found\n",
            "-- Found LibLZMA: /usr/include (found version \"5.2.2\") \n",
            "-- Found BZip2: /usr/lib/x86_64-linux-gnu/libbz2.so (found version \"1.0.6\") \n",
            "-- Looking for BZ2_bzCompressInit\n",
            "-- Looking for BZ2_bzCompressInit - found\n",
            "-- Found ZLIB: /usr/lib/x86_64-linux-gnu/libz.so (found version \"1.2.11\") \n",
            "-- Using kenlm library found in /usr/local/lib/libkenlm.a\n",
            "-- Using kenlm utils library found in /usr/local/lib/libkenlm_util.a\n",
            "-- kenlm model.hh found in /usr/local/include/kenlm/lm\n",
            "-- Found kenlm: /usr/local/include  \n",
            "-- Found kenlm (include: /usr/local/include, library: /usr/local/lib/libkenlm.a;/usr/local/lib/libkenlm_util.a;/usr/lib/x86_64-linux-gnu/liblzma.so;/usr/lib/x86_64-linux-gnu/libbz2.so;/usr/lib/x86_64-linux-gnu/libz.so)\n",
            "-- FL_BACKEND is not CUDA - forcing FL_LIBRARIES_USE_CUDA to OFF\n",
            "-- Will build flashlight core and extensions.\n",
            "-- Could NOT find cereal (missing: cereal_DIR)\n",
            "-- Could NOT find cereal (missing: cereal_INCLUDE_DIRS) \n",
            "-- Found cereal (include: )\n",
            "-- cereal NOT found. Will download from source\n",
            "-- Will build flashlight contrib assets.\n",
            "-- Found MPI_C: /usr/lib/x86_64-linux-gnu/openmpi/lib/libmpi.so (found version \"3.1\") \n",
            "-- Found MPI_CXX: /usr/lib/x86_64-linux-gnu/openmpi/lib/libmpi_cxx.so (found version \"3.1\") \n",
            "-- Found MPI: TRUE (found version \"3.1\")  \n",
            "-- MPI_VERSION found:  3.1\n",
            "-- MPI_CXX found\n",
            "-- MPI_CXX compile flags: -pthread\n",
            "-- MPI_CXX include path: /usr/lib/x86_64-linux-gnu/openmpi/include/openmpi/usr/lib/x86_64-linux-gnu/openmpi/include/openmpi/opal/mca/event/libevent2022/libevent/usr/lib/x86_64-linux-gnu/openmpi/include/openmpi/opal/mca/event/libevent2022/libevent/include/usr/lib/x86_64-linux-gnu/openmpi/include\n",
            "-- MPI_CXX LINK flags path: -pthread\n",
            "-- MPI_CXX libraries: /usr/lib/x86_64-linux-gnu/openmpi/lib/libmpi_cxx.so/usr/lib/x86_64-linux-gnu/openmpi/lib/libmpi.so\n",
            "-- MPI_C found\n",
            "-- MPI_C compile flags: -pthread\n",
            "-- MPI_C include path: /usr/lib/x86_64-linux-gnu/openmpi/include/openmpi/usr/lib/x86_64-linux-gnu/openmpi/include/openmpi/opal/mca/event/libevent2022/libevent/usr/lib/x86_64-linux-gnu/openmpi/include/openmpi/opal/mca/event/libevent2022/libevent/include/usr/lib/x86_64-linux-gnu/openmpi/include\n",
            "-- MPI_C LINK flags path: -pthread\n",
            "-- MPI_C libraries: /usr/lib/x86_64-linux-gnu/openmpi/lib/libmpi.so\n",
            "-- ArrayFire found (include: /opt/arrayfire/include, library: ArrayFire::afcuda)\n",
            "-- Could NOT find stb (missing: stb_INCLUDE_DIRS) \n",
            "-- Could not find stb_image.h. Will download stb from github\n",
            "-- Found GLOG: /usr/include  \n",
            "-- Found glog    (include: /usr/include, library: /usr/lib/x86_64-linux-gnu/libglog.so)\n",
            "-- GLOG found\n",
            "-- Found gflags: /usr/include  \n",
            "-- Found gflags  (include: /usr/include, library: /usr/lib/x86_64-linux-gnu/libgflags.so)\n",
            "-- gflags found\n",
            "-- Building flashlight ASR app\n",
            "-- Could NOT find SndFile (missing: SndFile_DIR)\n",
            "-- Found Ogg: /usr/lib/x86_64-linux-gnu/libogg.so (found version \"1.3.2\") \n",
            "-- Found Vorbis: /usr/lib/x86_64-linux-gnu/libvorbis.so (found version \"1.3.5\") \n",
            "-- Found VorbisEnc: /usr/lib/x86_64-linux-gnu/libvorbisenc.so (found version \"1.3.5\") \n",
            "-- Found FLAC: /usr/lib/x86_64-linux-gnu/libFLAC.so (found version \"1.3.2\") \n",
            "-- Found SndFile: /usr/include  \n",
            "-- Found libsndfile: (lib: /usr/lib/x86_64-linux-gnu/libsndfile.so include: /usr/include\n",
            "-- libsndfile found.\n",
            "-- Configuring done\n",
            "-- Generating done\n",
            "-- Build files have been written to: /content/flashlight/build\n",
            "\u001b[35m\u001b[1mScanning dependencies of target stb\u001b[0m\n",
            "\u001b[35m\u001b[1mScanning dependencies of target cereal\u001b[0m\n",
            "[  1%] \u001b[34m\u001b[1mCreating directories for 'cereal'\u001b[0m\n",
            "[  1%] \u001b[34m\u001b[1mCreating directories for 'stb'\u001b[0m\n",
            "[  1%] \u001b[34m\u001b[1mPerforming download step (git clone) for 'cereal'\u001b[0m\n",
            "[  2%] \u001b[34m\u001b[1mPerforming download step (git clone) for 'stb'\u001b[0m\n",
            "Cloning into 'cereal'...\n",
            "-- stb download command succeeded.  See also /content/flashlight/build/stb/src/stb-stamp/stb-download-*.log\n",
            "[  3%] \u001b[34m\u001b[1mNo patch step for 'stb'\u001b[0m\n",
            "[  3%] \u001b[34m\u001b[1mPerforming update step for 'stb'\u001b[0m\n",
            "[  3%] \u001b[34m\u001b[1mNo configure step for 'stb'\u001b[0m\n",
            "[  4%] \u001b[34m\u001b[1mNo build step for 'stb'\u001b[0m\n",
            "[  5%] \u001b[34m\u001b[1mNo install step for 'stb'\u001b[0m\n",
            "[  5%] \u001b[34m\u001b[1mCompleted 'stb'\u001b[0m\n",
            "[  5%] Built target stb\n",
            "\u001b[35m\u001b[1mScanning dependencies of target fl-libraries\u001b[0m\n",
            "[  6%] \u001b[32mBuilding CXX object CMakeFiles/fl-libraries.dir/flashlight/lib/set/Hungarian.cpp.o\u001b[0m\n",
            "[  6%] \u001b[32mBuilding CXX object CMakeFiles/fl-libraries.dir/flashlight/lib/sequence/criterion/cpu/CriterionUtils.cpp.o\u001b[0m\n",
            "Note: checking out '02eace19a99ce3cd564ca4e379753d69af08c2c8'.\n",
            "\n",
            "You are in 'detached HEAD' state. You can look around, make experimental\n",
            "changes and commit them, and you can discard any commits you make in this\n",
            "state without impacting any branches by performing another checkout.\n",
            "\n",
            "If you want to create a new branch to retain commits you create, you may\n",
            "do so (now or later) by using -b with the checkout command again. Example:\n",
            "\n",
            "  git checkout -b <new-branch-name>\n",
            "\n",
            "HEAD is now at 02eace19 Badges for travis and appveyor\n",
            "[  6%] \u001b[34m\u001b[1mNo patch step for 'cereal'\u001b[0m\n",
            "[  7%] \u001b[34m\u001b[1mPerforming update step for 'cereal'\u001b[0m\n",
            "[  8%] \u001b[34m\u001b[1mPerforming configure step for 'cereal'\u001b[0m\n",
            "loading initial cache file /content/flashlight/build/cereal/tmp/cereal-cache-Release.cmake\n",
            "[  8%] \u001b[32mBuilding CXX object CMakeFiles/fl-libraries.dir/flashlight/lib/sequence/criterion/cpu/ForceAlignmentCriterion.cpp.o\u001b[0m\n",
            "-- The C compiler identification is GNU 7.5.0\n",
            "-- The CXX compiler identification is GNU 7.5.0\n",
            "-- Check for working C compiler: /usr/bin/cc\n",
            "-- Check for working C compiler: /usr/bin/cc -- works\n",
            "-- Detecting C compiler ABI info\n",
            "-- Detecting C compiler ABI info - done\n",
            "-- Detecting C compile features\n",
            "-- Detecting C compile features - done\n",
            "-- Check for working CXX compiler: /usr/bin/c++\n",
            "-- Check for working CXX compiler: /usr/bin/c++ -- works\n",
            "-- Detecting CXX compiler ABI info\n",
            "[  9%] \u001b[32mBuilding CXX object CMakeFiles/fl-libraries.dir/flashlight/lib/sequence/criterion/cpu/ConnectionistTemporalClassificationCriterion.cpp.o\u001b[0m\n",
            "-- Detecting CXX compiler ABI info - done\n",
            "-- Detecting CXX compile features\n",
            "[  9%] \u001b[32mBuilding CXX object CMakeFiles/fl-libraries.dir/flashlight/lib/sequence/criterion/cpu/FullConnectionCriterion.cpp.o\u001b[0m\n",
            "-- Detecting CXX compile features - done\n",
            "-- Configuring done\n",
            "-- Generating done\n",
            "-- Build files have been written to: /content/flashlight/build/cereal/src/cereal\n",
            "[  9%] \u001b[34m\u001b[1mPerforming build step for 'cereal'\u001b[0m\n",
            "make[3]: warning: jobserver unavailable: using -j1.  Add '+' to parent make rule.\n",
            "[  9%] \u001b[34m\u001b[1mNo install step for 'cereal'\u001b[0m\n",
            "[  9%] \u001b[34m\u001b[1mCompleted 'cereal'\u001b[0m\n",
            "[  9%] Built target cereal\n",
            "[ 10%] \u001b[32mBuilding CXX object CMakeFiles/fl-libraries.dir/flashlight/lib/sequence/criterion/cpu/ViterbiPath.cpp.o\u001b[0m\n",
            "[ 10%] \u001b[32mBuilding CXX object CMakeFiles/fl-libraries.dir/flashlight/lib/audio/feature/Ceplifter.cpp.o\u001b[0m\n",
            "[ 11%] \u001b[32mBuilding CXX object CMakeFiles/fl-libraries.dir/flashlight/lib/audio/feature/Dct.cpp.o\u001b[0m\n",
            "[ 11%] \u001b[32mBuilding CXX object CMakeFiles/fl-libraries.dir/flashlight/lib/audio/feature/Derivatives.cpp.o\u001b[0m\n",
            "[ 12%] \u001b[32mBuilding CXX object CMakeFiles/fl-libraries.dir/flashlight/lib/audio/feature/Dither.cpp.o\u001b[0m\n",
            "[ 12%] \u001b[32mBuilding CXX object CMakeFiles/fl-libraries.dir/flashlight/lib/audio/feature/Mfcc.cpp.o\u001b[0m\n",
            "[ 12%] \u001b[32mBuilding CXX object CMakeFiles/fl-libraries.dir/flashlight/lib/audio/feature/Mfsc.cpp.o\u001b[0m\n",
            "[ 13%] \u001b[32mBuilding CXX object CMakeFiles/fl-libraries.dir/flashlight/lib/audio/feature/PowerSpectrum.cpp.o\u001b[0m\n",
            "[ 13%] \u001b[32mBuilding CXX object CMakeFiles/fl-libraries.dir/flashlight/lib/audio/feature/PreEmphasis.cpp.o\u001b[0m\n",
            "[ 14%] \u001b[32mBuilding CXX object CMakeFiles/fl-libraries.dir/flashlight/lib/audio/feature/SpeechUtils.cpp.o\u001b[0m\n",
            "[ 14%] \u001b[32mBuilding CXX object CMakeFiles/fl-libraries.dir/flashlight/lib/audio/feature/TriFilterbank.cpp.o\u001b[0m\n",
            "[ 15%] \u001b[32mBuilding CXX object CMakeFiles/fl-libraries.dir/flashlight/lib/audio/feature/Windowing.cpp.o\u001b[0m\n",
            "[ 15%] \u001b[32mBuilding CXX object CMakeFiles/fl-libraries.dir/flashlight/lib/common/String.cpp.o\u001b[0m\n",
            "[ 16%] \u001b[32mBuilding CXX object CMakeFiles/fl-libraries.dir/flashlight/lib/common/System.cpp.o\u001b[0m\n",
            "[ 16%] \u001b[32mBuilding CXX object CMakeFiles/fl-libraries.dir/flashlight/lib/text/decoder/lm/ConvLM.cpp.o\u001b[0m\n",
            "[ 16%] \u001b[32mBuilding CXX object CMakeFiles/fl-libraries.dir/flashlight/lib/text/decoder/lm/ZeroLM.cpp.o\u001b[0m\n",
            "[ 17%] \u001b[32mBuilding CXX object CMakeFiles/fl-libraries.dir/flashlight/lib/text/decoder/lm/KenLM.cpp.o\u001b[0m\n",
            "[ 17%] \u001b[32mBuilding CXX object CMakeFiles/fl-libraries.dir/flashlight/lib/text/decoder/LexiconDecoder.cpp.o\u001b[0m\n",
            "[ 18%] \u001b[32mBuilding CXX object CMakeFiles/fl-libraries.dir/flashlight/lib/text/decoder/LexiconFreeDecoder.cpp.o\u001b[0m\n",
            "[ 18%] \u001b[32mBuilding CXX object CMakeFiles/fl-libraries.dir/flashlight/lib/text/decoder/LexiconSeq2SeqDecoder.cpp.o\u001b[0m\n",
            "[ 19%] \u001b[32mBuilding CXX object CMakeFiles/fl-libraries.dir/flashlight/lib/text/decoder/LexiconFreeSeq2SeqDecoder.cpp.o\u001b[0m\n",
            "[ 19%] \u001b[32mBuilding CXX object CMakeFiles/fl-libraries.dir/flashlight/lib/text/decoder/Trie.cpp.o\u001b[0m\n",
            "[ 20%] \u001b[32mBuilding CXX object CMakeFiles/fl-libraries.dir/flashlight/lib/text/decoder/Utils.cpp.o\u001b[0m\n",
            "[ 20%] \u001b[32mBuilding CXX object CMakeFiles/fl-libraries.dir/flashlight/lib/text/dictionary/Dictionary.cpp.o\u001b[0m\n",
            "[ 20%] \u001b[32mBuilding CXX object CMakeFiles/fl-libraries.dir/flashlight/lib/text/dictionary/Utils.cpp.o\u001b[0m\n",
            "[ 21%] \u001b[32mBuilding CXX object CMakeFiles/fl-libraries.dir/flashlight/lib/text/tokenizer/PartialFileReader.cpp.o\u001b[0m\n",
            "[ 21%] \u001b[32mBuilding CXX object CMakeFiles/fl-libraries.dir/flashlight/lib/text/tokenizer/Tokenizer.cpp.o\u001b[0m\n",
            "[ 22%] \u001b[32m\u001b[1mLinking CXX static library libfl-libraries.a\u001b[0m\n",
            "[ 22%] Built target fl-libraries\n",
            "\u001b[35m\u001b[1mScanning dependencies of target flashlight\u001b[0m\n",
            "[ 23%] \u001b[32mBuilding CXX object CMakeFiles/flashlight.dir/flashlight/fl/contrib/modules/AdaptiveEmbedding.cpp.o\u001b[0m\n",
            "[ 23%] \u001b[32mBuilding CXX object CMakeFiles/flashlight.dir/flashlight/fl/contrib/modules/AsymmetricConv1D.cpp.o\u001b[0m\n",
            "[ 23%] \u001b[32mBuilding CXX object CMakeFiles/flashlight.dir/flashlight/fl/contrib/modules/Conformer.cpp.o\u001b[0m\n",
            "[ 24%] \u001b[32mBuilding CXX object CMakeFiles/flashlight.dir/flashlight/fl/contrib/modules/PositionEmbedding.cpp.o\u001b[0m\n",
            "[ 24%] \u001b[32mBuilding CXX object CMakeFiles/flashlight.dir/flashlight/fl/contrib/modules/RawWavSpecAugment.cpp.o\u001b[0m\n",
            "[ 25%] \u001b[32mBuilding CXX object CMakeFiles/flashlight.dir/flashlight/fl/contrib/modules/Residual.cpp.o\u001b[0m\n",
            "[ 25%] \u001b[32mBuilding CXX object CMakeFiles/flashlight.dir/flashlight/fl/contrib/modules/SinusoidalPositionEmbedding.cpp.o\u001b[0m\n",
            "[ 25%] \u001b[32mBuilding CXX object CMakeFiles/flashlight.dir/flashlight/fl/contrib/modules/Transformer.cpp.o\u001b[0m\n",
            "[ 26%] \u001b[32mBuilding CXX object CMakeFiles/flashlight.dir/flashlight/fl/contrib/modules/TDSBlock.cpp.o\u001b[0m\n",
            "[ 26%] \u001b[32mBuilding CXX object CMakeFiles/flashlight.dir/flashlight/fl/contrib/modules/SpecAugment.cpp.o\u001b[0m\n",
            "[ 27%] \u001b[32mBuilding CXX object CMakeFiles/flashlight.dir/flashlight/fl/common/Utils.cpp.o\u001b[0m\n",
            "[ 27%] \u001b[32mBuilding CXX object CMakeFiles/flashlight.dir/flashlight/fl/common/DevicePtr.cpp.o\u001b[0m\n",
            "[ 28%] \u001b[32mBuilding CXX object CMakeFiles/flashlight.dir/flashlight/fl/common/Defines.cpp.o\u001b[0m\n",
            "[ 28%] \u001b[32mBuilding CXX object CMakeFiles/flashlight.dir/flashlight/fl/common/DynamicBenchmark.cpp.o\u001b[0m\n",
            "[ 29%] \u001b[32mBuilding CXX object CMakeFiles/flashlight.dir/flashlight/fl/common/Init.cpp.o\u001b[0m\n",
            "[ 29%] \u001b[32mBuilding CXX object CMakeFiles/flashlight.dir/flashlight/fl/common/Logging.cpp.o\u001b[0m\n",
            "[ 29%] \u001b[32mBuilding CXX object CMakeFiles/flashlight.dir/flashlight/fl/common/Histogram.cpp.o\u001b[0m\n",
            "[ 30%] \u001b[32mBuilding CXX object CMakeFiles/flashlight.dir/flashlight/fl/common/Plugin.cpp.o\u001b[0m\n",
            "[ 30%] \u001b[32mBuilding CXX object CMakeFiles/flashlight.dir/flashlight/fl/autograd/Variable.cpp.o\u001b[0m\n",
            "[ 31%] \u001b[32mBuilding CXX object CMakeFiles/flashlight.dir/flashlight/fl/autograd/Functions.cpp.o\u001b[0m\n",
            "[ 31%] \u001b[32mBuilding CXX object CMakeFiles/flashlight.dir/flashlight/fl/autograd/Utils.cpp.o\u001b[0m\n",
            "[ 32%] \u001b[32mBuilding CXX object CMakeFiles/flashlight.dir/flashlight/fl/autograd/backend/cpu/operators/AdvancedIndex.cpp.o\u001b[0m\n",
            "[ 32%] \u001b[32mBuilding CXX object CMakeFiles/flashlight.dir/flashlight/fl/autograd/backend/cpu/Conv2D.cpp.o\u001b[0m\n",
            "[ 33%] \u001b[32mBuilding CXX object CMakeFiles/flashlight.dir/flashlight/fl/autograd/backend/cpu/Pool2D.cpp.o\u001b[0m\n",
            "[ 33%] \u001b[32mBuilding CXX object CMakeFiles/flashlight.dir/flashlight/fl/autograd/backend/cpu/RNN.cpp.o\u001b[0m\n",
            "[ 33%] \u001b[32mBuilding CXX object CMakeFiles/flashlight.dir/flashlight/fl/autograd/backend/cpu/BatchNorm.cpp.o\u001b[0m\n",
            "[ 34%] \u001b[32mBuilding CXX object CMakeFiles/flashlight.dir/flashlight/fl/autograd/backend/cpu/DnnlUtils.cpp.o\u001b[0m\n",
            "[ 34%] \u001b[32mBuilding CXX object CMakeFiles/flashlight.dir/flashlight/fl/dataset/BatchDataset.cpp.o\u001b[0m\n",
            "[ 35%] \u001b[32mBuilding CXX object CMakeFiles/flashlight.dir/flashlight/fl/dataset/BlobDataset.cpp.o\u001b[0m\n",
            "[ 35%] \u001b[32mBuilding CXX object CMakeFiles/flashlight.dir/flashlight/fl/dataset/ConcatDataset.cpp.o\u001b[0m\n",
            "[ 36%] \u001b[32mBuilding CXX object CMakeFiles/flashlight.dir/flashlight/fl/dataset/Utils.cpp.o\u001b[0m\n",
            "[ 36%] \u001b[32mBuilding CXX object CMakeFiles/flashlight.dir/flashlight/fl/dataset/FileBlobDataset.cpp.o\u001b[0m\n",
            "[ 37%] \u001b[32mBuilding CXX object CMakeFiles/flashlight.dir/flashlight/fl/dataset/MemoryBlobDataset.cpp.o\u001b[0m\n",
            "[ 37%] \u001b[32mBuilding CXX object CMakeFiles/flashlight.dir/flashlight/fl/dataset/MergeDataset.cpp.o\u001b[0m\n",
            "[ 37%] \u001b[32mBuilding CXX object CMakeFiles/flashlight.dir/flashlight/fl/dataset/PrefetchDataset.cpp.o\u001b[0m\n",
            "[ 38%] \u001b[32mBuilding CXX object CMakeFiles/flashlight.dir/flashlight/fl/dataset/ResampleDataset.cpp.o\u001b[0m\n",
            "[ 38%] \u001b[32mBuilding CXX object CMakeFiles/flashlight.dir/flashlight/fl/dataset/ShuffleDataset.cpp.o\u001b[0m\n",
            "[ 39%] \u001b[32mBuilding CXX object CMakeFiles/flashlight.dir/flashlight/fl/dataset/TensorDataset.cpp.o\u001b[0m\n",
            "[ 39%] \u001b[32mBuilding CXX object CMakeFiles/flashlight.dir/flashlight/fl/dataset/TransformDataset.cpp.o\u001b[0m\n",
            "[ 40%] \u001b[32mBuilding CXX object CMakeFiles/flashlight.dir/flashlight/fl/distributed/DistributedApi.cpp.o\u001b[0m\n",
            "[ 40%] \u001b[32mBuilding CXX object CMakeFiles/flashlight.dir/flashlight/fl/distributed/FileStore.cpp.o\u001b[0m\n",
            "[ 41%] \u001b[32mBuilding CXX object CMakeFiles/flashlight.dir/flashlight/fl/distributed/reducers/InlineReducer.cpp.o\u001b[0m\n",
            "[ 41%] \u001b[32mBuilding CXX object CMakeFiles/flashlight.dir/flashlight/fl/distributed/reducers/CoalescingReducer.cpp.o\u001b[0m\n",
            "[ 41%] \u001b[32mBuilding CXX object CMakeFiles/flashlight.dir/flashlight/fl/distributed/backend/cpu/DistributedBackend.cpp.o\u001b[0m\n",
            "[ 42%] \u001b[32mBuilding CXX object CMakeFiles/flashlight.dir/flashlight/fl/memory/MemoryManagerAdapter.cpp.o\u001b[0m\n",
            "[ 42%] \u001b[32mBuilding CXX object CMakeFiles/flashlight.dir/flashlight/fl/memory/MemoryManagerInstaller.cpp.o\u001b[0m\n",
            "[ 43%] \u001b[32mBuilding CXX object CMakeFiles/flashlight.dir/flashlight/fl/memory/managers/DefaultMemoryManager.cpp.o\u001b[0m\n",
            "[ 43%] \u001b[32mBuilding CXX object CMakeFiles/flashlight.dir/flashlight/fl/memory/managers/CachingMemoryManager.cpp.o\u001b[0m\n",
            "[ 44%] \u001b[32mBuilding CXX object CMakeFiles/flashlight.dir/flashlight/fl/meter/AverageValueMeter.cpp.o\u001b[0m\n",
            "[ 44%] \u001b[32mBuilding CXX object CMakeFiles/flashlight.dir/flashlight/fl/meter/CountMeter.cpp.o\u001b[0m\n",
            "[ 45%] \u001b[32mBuilding CXX object CMakeFiles/flashlight.dir/flashlight/fl/meter/EditDistanceMeter.cpp.o\u001b[0m\n",
            "[ 45%] \u001b[32mBuilding CXX object CMakeFiles/flashlight.dir/flashlight/fl/meter/FrameErrorMeter.cpp.o\u001b[0m\n",
            "[ 46%] \u001b[32mBuilding CXX object CMakeFiles/flashlight.dir/flashlight/fl/meter/MSEMeter.cpp.o\u001b[0m\n",
            "[ 46%] \u001b[32mBuilding CXX object CMakeFiles/flashlight.dir/flashlight/fl/meter/TimeMeter.cpp.o\u001b[0m\n",
            "[ 46%] \u001b[32mBuilding CXX object CMakeFiles/flashlight.dir/flashlight/fl/meter/TopKMeter.cpp.o\u001b[0m\n",
            "[ 47%] \u001b[32mBuilding CXX object CMakeFiles/flashlight.dir/flashlight/fl/nn/DistributedUtils.cpp.o\u001b[0m\n",
            "[ 47%] \u001b[32mBuilding CXX object CMakeFiles/flashlight.dir/flashlight/fl/nn/Init.cpp.o\u001b[0m\n",
            "[ 48%] \u001b[32mBuilding CXX object CMakeFiles/flashlight.dir/flashlight/fl/nn/Utils.cpp.o\u001b[0m\n",
            "[ 48%] \u001b[32mBuilding CXX object CMakeFiles/flashlight.dir/flashlight/fl/nn/modules/Activations.cpp.o\u001b[0m\n",
            "[ 49%] \u001b[32mBuilding CXX object CMakeFiles/flashlight.dir/flashlight/fl/nn/modules/AdaptiveSoftMax.cpp.o\u001b[0m\n",
            "[ 49%] \u001b[32mBuilding CXX object CMakeFiles/flashlight.dir/flashlight/fl/nn/modules/BatchNorm.cpp.o\u001b[0m\n",
            "[ 50%] \u001b[32mBuilding CXX object CMakeFiles/flashlight.dir/flashlight/fl/nn/modules/Container.cpp.o\u001b[0m\n",
            "[ 50%] \u001b[32mBuilding CXX object CMakeFiles/flashlight.dir/flashlight/fl/nn/modules/Conv2D.cpp.o\u001b[0m\n",
            "[ 50%] \u001b[32mBuilding CXX object CMakeFiles/flashlight.dir/flashlight/fl/nn/modules/Dropout.cpp.o\u001b[0m\n",
            "[ 51%] \u001b[32mBuilding CXX object CMakeFiles/flashlight.dir/flashlight/fl/nn/modules/Embedding.cpp.o\u001b[0m\n",
            "[ 51%] \u001b[32mBuilding CXX object CMakeFiles/flashlight.dir/flashlight/fl/nn/modules/Identity.cpp.o\u001b[0m\n",
            "[ 52%] \u001b[32mBuilding CXX object CMakeFiles/flashlight.dir/flashlight/fl/nn/modules/LayerNorm.cpp.o\u001b[0m\n",
            "[ 52%] \u001b[32mBuilding CXX object CMakeFiles/flashlight.dir/flashlight/fl/nn/modules/Linear.cpp.o\u001b[0m\n",
            "[ 53%] \u001b[32mBuilding CXX object CMakeFiles/flashlight.dir/flashlight/fl/nn/modules/Loss.cpp.o\u001b[0m\n",
            "[ 53%] \u001b[32mBuilding CXX object CMakeFiles/flashlight.dir/flashlight/fl/nn/modules/Module.cpp.o\u001b[0m\n",
            "[ 54%] \u001b[32mBuilding CXX object CMakeFiles/flashlight.dir/flashlight/fl/nn/modules/Normalize.cpp.o\u001b[0m\n",
            "[ 54%] \u001b[32mBuilding CXX object CMakeFiles/flashlight.dir/flashlight/fl/nn/modules/Padding.cpp.o\u001b[0m\n",
            "[ 54%] \u001b[32mBuilding CXX object CMakeFiles/flashlight.dir/flashlight/fl/nn/modules/PrecisionCast.cpp.o\u001b[0m\n",
            "[ 55%] \u001b[32mBuilding CXX object CMakeFiles/flashlight.dir/flashlight/fl/nn/modules/Pool2D.cpp.o\u001b[0m\n",
            "[ 55%] \u001b[32mBuilding CXX object CMakeFiles/flashlight.dir/flashlight/fl/nn/modules/Reorder.cpp.o\u001b[0m\n",
            "[ 56%] \u001b[32mBuilding CXX object CMakeFiles/flashlight.dir/flashlight/fl/nn/modules/RNN.cpp.o\u001b[0m\n",
            "[ 56%] \u001b[32mBuilding CXX object CMakeFiles/flashlight.dir/flashlight/fl/nn/modules/Transform.cpp.o\u001b[0m\n",
            "[ 57%] \u001b[32mBuilding CXX object CMakeFiles/flashlight.dir/flashlight/fl/nn/modules/View.cpp.o\u001b[0m\n",
            "[ 57%] \u001b[32mBuilding CXX object CMakeFiles/flashlight.dir/flashlight/fl/nn/modules/WeightNorm.cpp.o\u001b[0m\n",
            "[ 58%] \u001b[32mBuilding CXX object CMakeFiles/flashlight.dir/flashlight/fl/optim/Optimizers.cpp.o\u001b[0m\n",
            "[ 58%] \u001b[32mBuilding CXX object CMakeFiles/flashlight.dir/flashlight/fl/optim/Utils.cpp.o\u001b[0m\n",
            "[ 58%] \u001b[32mBuilding CXX object CMakeFiles/flashlight.dir/flashlight/fl/optim/AdamOptimizer.cpp.o\u001b[0m\n",
            "[ 59%] \u001b[32mBuilding CXX object CMakeFiles/flashlight.dir/flashlight/fl/optim/AdadeltaOptimizer.cpp.o\u001b[0m\n",
            "[ 59%] \u001b[32mBuilding CXX object CMakeFiles/flashlight.dir/flashlight/fl/optim/AdagradOptimizer.cpp.o\u001b[0m\n",
            "[ 60%] \u001b[32mBuilding CXX object CMakeFiles/flashlight.dir/flashlight/fl/optim/AMSgradOptimizer.cpp.o\u001b[0m\n",
            "[ 60%] \u001b[32mBuilding CXX object CMakeFiles/flashlight.dir/flashlight/fl/optim/NAGOptimizer.cpp.o\u001b[0m\n",
            "[ 61%] \u001b[32mBuilding CXX object CMakeFiles/flashlight.dir/flashlight/fl/optim/NovogradOptimizer.cpp.o\u001b[0m\n",
            "[ 61%] \u001b[32mBuilding CXX object CMakeFiles/flashlight.dir/flashlight/fl/optim/RMSPropOptimizer.cpp.o\u001b[0m\n",
            "[ 62%] \u001b[32mBuilding CXX object CMakeFiles/flashlight.dir/flashlight/fl/optim/SGDOptimizer.cpp.o\u001b[0m\n",
            "[ 62%] \u001b[32mBuilding CXX object CMakeFiles/flashlight.dir/flashlight/fl/tensor/backend/af/ArrayFireBackend.cpp.o\u001b[0m\n",
            "[ 62%] \u001b[32mBuilding CXX object CMakeFiles/flashlight.dir/flashlight/fl/tensor/backend/af/ArrayFireTensor.cpp.o\u001b[0m\n",
            "[ 63%] \u001b[32mBuilding CXX object CMakeFiles/flashlight.dir/flashlight/fl/tensor/backend/af/Utils.cpp.o\u001b[0m\n",
            "[ 63%] \u001b[32mBuilding CXX object CMakeFiles/flashlight.dir/flashlight/fl/tensor/Compute.cpp.o\u001b[0m\n",
            "[ 64%] \u001b[32mBuilding CXX object CMakeFiles/flashlight.dir/flashlight/fl/tensor/Index.cpp.o\u001b[0m\n",
            "[ 64%] \u001b[32mBuilding CXX object CMakeFiles/flashlight.dir/flashlight/fl/tensor/Random.cpp.o\u001b[0m\n",
            "[ 65%] \u001b[32mBuilding CXX object CMakeFiles/flashlight.dir/flashlight/fl/tensor/Shape.cpp.o\u001b[0m\n",
            "[ 65%] \u001b[32mBuilding CXX object CMakeFiles/flashlight.dir/flashlight/fl/tensor/TensorBackend.cpp.o\u001b[0m\n",
            "[ 66%] \u001b[32mBuilding CXX object CMakeFiles/flashlight.dir/flashlight/fl/tensor/TensorBase.cpp.o\u001b[0m\n",
            "[ 66%] \u001b[32mBuilding CXX object CMakeFiles/flashlight.dir/flashlight/fl/tensor/TensorAdapter.cpp.o\u001b[0m\n",
            "[ 66%] \u001b[32mBuilding CXX object CMakeFiles/flashlight.dir/flashlight/fl/tensor/Types.cpp.o\u001b[0m\n",
            "[ 67%] \u001b[32mBuilding CXX object CMakeFiles/flashlight.dir/flashlight/ext/amp/DynamicScaler.cpp.o\u001b[0m\n",
            "[ 67%] \u001b[32mBuilding CXX object CMakeFiles/flashlight.dir/flashlight/ext/common/SequentialBuilder.cpp.o\u001b[0m\n",
            "[ 68%] \u001b[32mBuilding CXX object CMakeFiles/flashlight.dir/flashlight/ext/common/DistributedUtils.cpp.o\u001b[0m\n",
            "[ 68%] \u001b[32mBuilding CXX object CMakeFiles/flashlight.dir/flashlight/ext/image/af/Transforms.cpp.o\u001b[0m\n",
            "[ 69%] \u001b[32mBuilding CXX object CMakeFiles/flashlight.dir/flashlight/ext/image/af/Jpeg.cpp.o\u001b[0m\n",
            "[ 69%] \u001b[32mBuilding CXX object CMakeFiles/flashlight.dir/flashlight/ext/image/fl/models/Resnet.cpp.o\u001b[0m\n",
            "[ 70%] \u001b[32mBuilding CXX object CMakeFiles/flashlight.dir/flashlight/ext/image/fl/models/ResnetFrozenBatchNorm.cpp.o\u001b[0m\n",
            "[ 70%] \u001b[32mBuilding CXX object CMakeFiles/flashlight.dir/flashlight/ext/image/fl/models/ViT.cpp.o\u001b[0m\n",
            "[ 71%] \u001b[32mBuilding CXX object CMakeFiles/flashlight.dir/flashlight/ext/image/fl/nn/VisionTransformer.cpp.o\u001b[0m\n",
            "[ 71%] \u001b[32mBuilding CXX object CMakeFiles/flashlight.dir/flashlight/ext/image/fl/nn/FrozenBatchNorm.cpp.o\u001b[0m\n",
            "[ 71%] \u001b[32mBuilding CXX object CMakeFiles/flashlight.dir/flashlight/ext/image/fl/dataset/DistributedDataset.cpp.o\u001b[0m\n",
            "[ 72%] \u001b[32mBuilding CXX object CMakeFiles/flashlight.dir/flashlight/ext/image/fl/dataset/Jpeg.cpp.o\u001b[0m\n",
            "[ 72%] \u001b[32mBuilding CXX object CMakeFiles/flashlight.dir/flashlight/ext/plugin/ModulePlugin.cpp.o\u001b[0m\n",
            "[ 73%] \u001b[32m\u001b[1mLinking CXX static library libflashlight.a\u001b[0m\n",
            "[ 73%] Built target flashlight\n",
            "\u001b[35m\u001b[1mScanning dependencies of target flashlight-app-common\u001b[0m\n",
            "[ 73%] \u001b[32mBuilding CXX object CMakeFiles/flashlight-app-common.dir/flashlight/app/common/Runtime.cpp.o\u001b[0m\n",
            "[ 74%] \u001b[32m\u001b[1mLinking CXX static library libflashlight-app-common.a\u001b[0m\n",
            "[ 74%] Built target flashlight-app-common\n",
            "\u001b[35m\u001b[1mScanning dependencies of target flashlight-app-asr\u001b[0m\n",
            "[ 74%] \u001b[32mBuilding CXX object CMakeFiles/flashlight-app-asr.dir/flashlight/app/asr/common/Flags.cpp.o\u001b[0m\n",
            "[ 75%] \u001b[32mBuilding CXX object CMakeFiles/flashlight-app-asr.dir/flashlight/app/asr/criterion/backend/cpu/ConnectionistTemporalClassificationCriterion.cpp.o\u001b[0m\n",
            "[ 75%] \u001b[32mBuilding CXX object CMakeFiles/flashlight-app-asr.dir/flashlight/app/asr/criterion/backend/cpu/CriterionUtils.cpp.o\u001b[0m\n",
            "[ 76%] \u001b[32mBuilding CXX object CMakeFiles/flashlight-app-asr.dir/flashlight/app/asr/criterion/backend/cpu/ForceAlignmentCriterion.cpp.o\u001b[0m\n",
            "[ 76%] \u001b[32mBuilding CXX object CMakeFiles/flashlight-app-asr.dir/flashlight/app/asr/criterion/backend/cpu/FullConnectionCriterion.cpp.o\u001b[0m\n",
            "[ 76%] \u001b[32mBuilding CXX object CMakeFiles/flashlight-app-asr.dir/flashlight/app/asr/criterion/ConnectionistTemporalClassificationCriterion.cpp.o\u001b[0m\n",
            "[ 77%] \u001b[32mBuilding CXX object CMakeFiles/flashlight-app-asr.dir/flashlight/app/asr/criterion/CriterionUtils.cpp.o\u001b[0m\n",
            "[ 77%] \u001b[32mBuilding CXX object CMakeFiles/flashlight-app-asr.dir/flashlight/app/asr/criterion/ForceAlignmentCriterion.cpp.o\u001b[0m\n",
            "[ 78%] \u001b[32mBuilding CXX object CMakeFiles/flashlight-app-asr.dir/flashlight/app/asr/criterion/Seq2SeqCriterion.cpp.o\u001b[0m\n",
            "[ 78%] \u001b[32mBuilding CXX object CMakeFiles/flashlight-app-asr.dir/flashlight/app/asr/criterion/FullConnectionCriterion.cpp.o\u001b[0m\n",
            "[ 79%] \u001b[32mBuilding CXX object CMakeFiles/flashlight-app-asr.dir/flashlight/app/asr/criterion/TransformerCriterion.cpp.o\u001b[0m\n",
            "[ 79%] \u001b[32mBuilding CXX object CMakeFiles/flashlight-app-asr.dir/flashlight/app/asr/criterion/attention/ContentAttention.cpp.o\u001b[0m\n",
            "[ 80%] \u001b[32mBuilding CXX object CMakeFiles/flashlight-app-asr.dir/flashlight/app/asr/criterion/attention/LocationAttention.cpp.o\u001b[0m\n",
            "[ 80%] \u001b[32mBuilding CXX object CMakeFiles/flashlight-app-asr.dir/flashlight/app/asr/criterion/attention/MultiHeadAttention.cpp.o\u001b[0m\n",
            "[ 80%] \u001b[32mBuilding CXX object CMakeFiles/flashlight-app-asr.dir/flashlight/app/asr/criterion/attention/Utils.cpp.o\u001b[0m\n",
            "[ 81%] \u001b[32mBuilding CXX object CMakeFiles/flashlight-app-asr.dir/flashlight/app/asr/criterion/attention/MedianWindow.cpp.o\u001b[0m\n",
            "[ 81%] \u001b[32mBuilding CXX object CMakeFiles/flashlight-app-asr.dir/flashlight/app/asr/criterion/attention/SoftPretrainWindow.cpp.o\u001b[0m\n",
            "[ 82%] \u001b[32mBuilding CXX object CMakeFiles/flashlight-app-asr.dir/flashlight/app/asr/criterion/attention/SoftWindow.cpp.o\u001b[0m\n",
            "[ 82%] \u001b[32mBuilding CXX object CMakeFiles/flashlight-app-asr.dir/flashlight/app/asr/criterion/attention/StepWindow.cpp.o\u001b[0m\n",
            "[ 83%] \u001b[32mBuilding CXX object CMakeFiles/flashlight-app-asr.dir/flashlight/app/asr/criterion/attention/WindowBase.cpp.o\u001b[0m\n",
            "[ 83%] \u001b[32mBuilding CXX object CMakeFiles/flashlight-app-asr.dir/flashlight/app/asr/data/FeatureTransforms.cpp.o\u001b[0m\n",
            "[ 84%] \u001b[32mBuilding CXX object CMakeFiles/flashlight-app-asr.dir/flashlight/app/asr/data/ListFileDataset.cpp.o\u001b[0m\n",
            "[ 84%] \u001b[32mBuilding CXX object CMakeFiles/flashlight-app-asr.dir/flashlight/app/asr/data/Sound.cpp.o\u001b[0m\n",
            "[ 84%] \u001b[32mBuilding CXX object CMakeFiles/flashlight-app-asr.dir/flashlight/app/asr/data/Utils.cpp.o\u001b[0m\n",
            "[ 85%] \u001b[32mBuilding CXX object CMakeFiles/flashlight-app-asr.dir/flashlight/app/asr/decoder/ConvLmModule.cpp.o\u001b[0m\n",
            "[ 85%] \u001b[32mBuilding CXX object CMakeFiles/flashlight-app-asr.dir/flashlight/app/asr/decoder/DecodeMaster.cpp.o\u001b[0m\n",
            "[ 86%] \u001b[32mBuilding CXX object CMakeFiles/flashlight-app-asr.dir/flashlight/app/asr/decoder/DecodeUtils.cpp.o\u001b[0m\n",
            "[ 86%] \u001b[32mBuilding CXX object CMakeFiles/flashlight-app-asr.dir/flashlight/app/asr/decoder/PlGenerator.cpp.o\u001b[0m\n",
            "[ 87%] \u001b[32mBuilding CXX object CMakeFiles/flashlight-app-asr.dir/flashlight/app/asr/decoder/TranscriptionUtils.cpp.o\u001b[0m\n",
            "[ 87%] \u001b[32mBuilding CXX object CMakeFiles/flashlight-app-asr.dir/flashlight/app/asr/runtime/Attention.cpp.o\u001b[0m\n",
            "[ 88%] \u001b[32mBuilding CXX object CMakeFiles/flashlight-app-asr.dir/flashlight/app/asr/runtime/Logger.cpp.o\u001b[0m\n",
            "[ 88%] \u001b[32mBuilding CXX object CMakeFiles/flashlight-app-asr.dir/flashlight/app/asr/runtime/SpeechStatMeter.cpp.o\u001b[0m\n",
            "[ 88%] \u001b[32mBuilding CXX object CMakeFiles/flashlight-app-asr.dir/flashlight/app/asr/runtime/Optimizer.cpp.o\u001b[0m\n",
            "[ 89%] \u001b[32mBuilding CXX object CMakeFiles/flashlight-app-asr.dir/flashlight/app/asr/runtime/Helpers.cpp.o\u001b[0m\n",
            "[ 89%] \u001b[32mBuilding CXX object CMakeFiles/flashlight-app-asr.dir/flashlight/app/asr/augmentation/AdditiveNoise.cpp.o\u001b[0m\n",
            "[ 90%] \u001b[32mBuilding CXX object CMakeFiles/flashlight-app-asr.dir/flashlight/app/asr/augmentation/GaussianNoise.cpp.o\u001b[0m\n",
            "[ 90%] \u001b[32mBuilding CXX object CMakeFiles/flashlight-app-asr.dir/flashlight/app/asr/augmentation/Reverberation.cpp.o\u001b[0m\n",
            "[ 91%] \u001b[32mBuilding CXX object CMakeFiles/flashlight-app-asr.dir/flashlight/app/asr/augmentation/SoundEffect.cpp.o\u001b[0m\n",
            "[ 91%] \u001b[32mBuilding CXX object CMakeFiles/flashlight-app-asr.dir/flashlight/app/asr/augmentation/SoundEffectConfig.cpp.o\u001b[0m\n",
            "[ 92%] \u001b[32mBuilding CXX object CMakeFiles/flashlight-app-asr.dir/flashlight/app/asr/augmentation/SoundEffectUtil.cpp.o\u001b[0m\n",
            "[ 92%] \u001b[32m\u001b[1mLinking CXX static library libflashlight-app-asr.a\u001b[0m\n",
            "[ 92%] Built target flashlight-app-asr\n",
            "\u001b[35m\u001b[1mScanning dependencies of target fl_asr_test\u001b[0m\n",
            "\u001b[35m\u001b[1mScanning dependencies of target fl_asr_sfx_apply\u001b[0m\n",
            "[ 93%] \u001b[32mBuilding CXX object CMakeFiles/fl_asr_sfx_apply.dir/flashlight/app/asr/augmentation/SoundEffectApply.cpp.o\u001b[0m\n",
            "[ 94%] \u001b[32mBuilding CXX object CMakeFiles/fl_asr_test.dir/flashlight/app/asr/Test.cpp.o\u001b[0m\n",
            "[ 94%] \u001b[32m\u001b[1mLinking CXX executable bin/asr/fl_asr_sfx_apply\u001b[0m\n",
            "[ 94%] Built target fl_asr_sfx_apply\n",
            "\u001b[35m\u001b[1mScanning dependencies of target fl_asr_decode\u001b[0m\n",
            "[ 94%] \u001b[32mBuilding CXX object CMakeFiles/fl_asr_decode.dir/flashlight/app/asr/Decode.cpp.o\u001b[0m\n",
            "[ 94%] \u001b[32m\u001b[1mLinking CXX executable bin/asr/fl_asr_test\u001b[0m\n",
            "[ 94%] \u001b[32m\u001b[1mLinking CXX executable bin/asr/fl_asr_decode\u001b[0m\n",
            "[ 94%] Built target fl_asr_test\n",
            "\u001b[35m\u001b[1mScanning dependencies of target fl_asr_train\u001b[0m\n",
            "[ 95%] \u001b[32mBuilding CXX object CMakeFiles/fl_asr_train.dir/flashlight/app/asr/Train.cpp.o\u001b[0m\n",
            "[ 95%] Built target fl_asr_decode\n",
            "\u001b[35m\u001b[1mScanning dependencies of target fl_asr_tutorial_inference_ctc\u001b[0m\n",
            "[ 96%] \u001b[32mBuilding CXX object CMakeFiles/fl_asr_tutorial_inference_ctc.dir/flashlight/app/asr/tutorial/InferenceCTC.cpp.o\u001b[0m\n",
            "[ 96%] \u001b[32m\u001b[1mLinking CXX executable bin/asr/fl_asr_tutorial_inference_ctc\u001b[0m\n",
            "[ 96%] Built target fl_asr_tutorial_inference_ctc\n",
            "\u001b[35m\u001b[1mScanning dependencies of target fl_asr_tutorial_finetune_ctc\u001b[0m\n",
            "[ 97%] \u001b[32mBuilding CXX object CMakeFiles/fl_asr_tutorial_finetune_ctc.dir/flashlight/app/asr/tutorial/FinetuneCTC.cpp.o\u001b[0m\n",
            "[ 97%] \u001b[32m\u001b[1mLinking CXX executable bin/asr/fl_asr_train\u001b[0m\n",
            "[ 97%] Built target fl_asr_train\n",
            "\u001b[35m\u001b[1mScanning dependencies of target fl_asr_voice_activity_detection_ctc\u001b[0m\n",
            "[ 97%] \u001b[32mBuilding CXX object flashlight/app/asr/tools/CMakeFiles/fl_asr_voice_activity_detection_ctc.dir/VoiceActivityDetection-CTC.cpp.o\u001b[0m\n",
            "[ 97%] \u001b[32m\u001b[1mLinking CXX executable bin/asr/fl_asr_tutorial_finetune_ctc\u001b[0m\n",
            "[ 97%] Built target fl_asr_tutorial_finetune_ctc\n",
            "\u001b[35m\u001b[1mScanning dependencies of target fl_asr_align\u001b[0m\n",
            "[ 97%] \u001b[32mBuilding CXX object flashlight/app/asr/tools/CMakeFiles/fl_asr_align.dir/alignment/Align.cpp.o\u001b[0m\n",
            "[ 98%] \u001b[32m\u001b[1mLinking CXX executable ../../../../bin/asr/fl_asr_voice_activity_detection_ctc\u001b[0m\n",
            "[ 98%] Built target fl_asr_voice_activity_detection_ctc\n",
            "\u001b[35m\u001b[1mScanning dependencies of target fl_asr_arch_benchmark\u001b[0m\n",
            "[ 98%] \u001b[32mBuilding CXX object flashlight/app/asr/tools/CMakeFiles/fl_asr_arch_benchmark.dir/benchmark/ArchBenchmark.cpp.o\u001b[0m\n",
            "[ 99%] \u001b[32m\u001b[1mLinking CXX executable ../../../../bin/asr/fl_asr_arch_benchmark\u001b[0m\n",
            "[ 99%] Built target fl_asr_arch_benchmark\n",
            "[100%] \u001b[32m\u001b[1mLinking CXX executable ../../../../bin/asr/fl_asr_align\u001b[0m\n",
            "[100%] Built target fl_asr_align\n"
          ]
        }
      ]
    },
    {
      "cell_type": "code",
      "source": [
        "%cd /content/flashlight/build\n",
        "# !wget https://raw.githubusercontent.com/flashlight/wav2letter/49087d575ddf77aa5a99a01fee980fc00e92c802/recipes/mling_pl/model_with_externally_controlled_reshaping_big_lid.cpp\n",
        "# !mv model_with_externally_controlled_reshaping_big_lid.cpp mling.cpp\n",
        "!wget https://raw.githubusercontent.com/flashlight/wav2letter/main/recipes/mling_pl/mling_large.cpp\n",
        "\n",
        "# !cmake .. -DFL_PLUGIN_MODULE_SRC_PATH=mling.cpp\n",
        "!cmake .. -DFL_PLUGIN_MODULE_SRC_PATH=mling_large.cpp\n",
        "!make\n",
        "%cd -"
      ],
      "metadata": {
        "id": "Xh12VjbuiRax",
        "colab": {
          "base_uri": "https://localhost:8080/"
        },
        "outputId": "4f4645b5-b580-4db4-ca2a-77cf657023b3"
      },
      "execution_count": null,
      "outputs": [
        {
          "output_type": "stream",
          "name": "stdout",
          "text": [
            "/content/flashlight/build\n",
            "--2022-03-20 01:53:21--  https://raw.githubusercontent.com/flashlight/wav2letter/main/recipes/mling_pl/mling_large.cpp\n",
            "Resolving raw.githubusercontent.com (raw.githubusercontent.com)... 185.199.108.133, 185.199.110.133, 185.199.111.133, ...\n",
            "Connecting to raw.githubusercontent.com (raw.githubusercontent.com)|185.199.108.133|:443... connected.\n",
            "HTTP request sent, awaiting response... 200 OK\n",
            "Length: 4340 (4.2K) [text/plain]\n",
            "Saving to: ‘mling_large.cpp’\n",
            "\n",
            "mling_large.cpp     100%[===================>]   4.24K  --.-KB/s    in 0s      \n",
            "\n",
            "2022-03-20 01:53:21 (43.3 MB/s) - ‘mling_large.cpp’ saved [4340/4340]\n",
            "\n",
            "-- -rdynamic supported.\n",
            "-- Will build flashlight libraries.\n",
            "-- MKL_THREADING = OMP\n",
            "-- Checking for [mkl_intel_lp64 - mkl_gnu_thread - mkl_core - gomp - pthread - m - dl]\n",
            "--   Library mkl_intel_lp64: /opt/intel/mkl/lib/intel64/libmkl_intel_lp64.so\n",
            "--   Library mkl_gnu_thread: /opt/intel/mkl/lib/intel64/libmkl_gnu_thread.so\n",
            "--   Library mkl_core: /opt/intel/mkl/lib/intel64/libmkl_core.so\n",
            "--   Library gomp: -fopenmp\n",
            "--   Library pthread: /usr/lib/x86_64-linux-gnu/libpthread.so\n",
            "--   Library m: /usr/lib/x86_64-linux-gnu/libm.so\n",
            "--   Library dl: /usr/lib/x86_64-linux-gnu/libdl.so\n",
            "-- MKL library found\n",
            "-- CBLAS found (include: /opt/intel/mkl/include, library: /opt/intel/mkl/lib/intel64/libmkl_intel_lp64.so;/opt/intel/mkl/lib/intel64/libmkl_gnu_thread.so;/opt/intel/mkl/lib/intel64/libmkl_core.so;-fopenmp;/usr/lib/x86_64-linux-gnu/libpthread.so;/usr/lib/x86_64-linux-gnu/libm.so;/usr/lib/x86_64-linux-gnu/libdl.so)\n",
            "-- Could NOT find FFTW3 (missing: FFTW3_DIR)\n",
            "-- FindFFTW using pkgconfig: FOUND=1 LIBRARIES=fftw3 LIBRARY_DIRS= LIBDIR=/usr/lib/x86_64-linux-gnu LINK_LIBRARIES=\n",
            "-- FindFTTW using pkgconfig: INCLUDE_DIRS= INCLUDEDIR=/usr/include\n",
            "-- FFTW found\n",
            "-- Found OpenMP_C: -fopenmp  \n",
            "-- Found OpenMP_CXX: -fopenmp  \n",
            "-- Found OpenMP: TRUE   \n",
            "-- Looking for KenLM\n",
            "-- Using kenlm library found in /usr/local/lib/libkenlm.a\n",
            "-- Using kenlm utils library found in /usr/local/lib/libkenlm_util.a\n",
            "-- kenlm model.hh found in /usr/local/include/kenlm/lm\n",
            "-- Found kenlm (include: /usr/local/include, library: /usr/local/lib/libkenlm.a;/usr/local/lib/libkenlm_util.a;/usr/lib/x86_64-linux-gnu/liblzma.so;/usr/lib/x86_64-linux-gnu/libbz2.so;/usr/lib/x86_64-linux-gnu/libz.so)\n",
            "-- FL_BACKEND is not CUDA - forcing FL_LIBRARIES_USE_CUDA to OFF\n",
            "-- Will build flashlight core and extensions.\n",
            "-- Could NOT find cereal (missing: cereal_DIR)\n",
            "-- Could NOT find cereal (missing: cereal_INCLUDE_DIRS) \n",
            "-- Found cereal (include: )\n",
            "-- cereal NOT found. Will download from source\n",
            "-- Will build flashlight contrib assets.\n",
            "-- MPI_VERSION found:  3.1\n",
            "-- MPI_CXX found\n",
            "-- MPI_CXX compile flags: -pthread\n",
            "-- MPI_CXX include path: /usr/lib/x86_64-linux-gnu/openmpi/include/openmpi/usr/lib/x86_64-linux-gnu/openmpi/include/openmpi/opal/mca/event/libevent2022/libevent/usr/lib/x86_64-linux-gnu/openmpi/include/openmpi/opal/mca/event/libevent2022/libevent/include/usr/lib/x86_64-linux-gnu/openmpi/include\n",
            "-- MPI_CXX LINK flags path: -pthread\n",
            "-- MPI_CXX libraries: /usr/lib/x86_64-linux-gnu/openmpi/lib/libmpi_cxx.so/usr/lib/x86_64-linux-gnu/openmpi/lib/libmpi.so\n",
            "-- MPI_C found\n",
            "-- MPI_C compile flags: -pthread\n",
            "-- MPI_C include path: /usr/lib/x86_64-linux-gnu/openmpi/include/openmpi/usr/lib/x86_64-linux-gnu/openmpi/include/openmpi/opal/mca/event/libevent2022/libevent/usr/lib/x86_64-linux-gnu/openmpi/include/openmpi/opal/mca/event/libevent2022/libevent/include/usr/lib/x86_64-linux-gnu/openmpi/include\n",
            "-- MPI_C LINK flags path: -pthread\n",
            "-- MPI_C libraries: /usr/lib/x86_64-linux-gnu/openmpi/lib/libmpi.so\n",
            "-- ArrayFire found (include: /opt/arrayfire/include, library: ArrayFire::afcuda)\n",
            "-- Could NOT find stb (missing: stb_INCLUDE_DIRS) \n",
            "-- Could not find stb_image.h. Will download stb from github\n",
            "-- Building plugin with src mling_large.cpp\n",
            "-- Found glog    (include: /usr/include, library: /usr/lib/x86_64-linux-gnu/libglog.so)\n",
            "-- GLOG found\n",
            "-- Found gflags  (include: /usr/include, library: /usr/lib/x86_64-linux-gnu/libgflags.so)\n",
            "-- gflags found\n",
            "-- Building flashlight ASR app\n",
            "-- Could NOT find SndFile (missing: SndFile_DIR)\n",
            "-- Found libsndfile: (lib: /usr/lib/x86_64-linux-gnu/libsndfile.so include: /usr/include\n",
            "-- libsndfile found.\n",
            "-- Configuring done\n",
            "-- Generating done\n",
            "-- Build files have been written to: /content/flashlight/build\n",
            "[  1%] \u001b[34m\u001b[1mPerforming update step for 'cereal'\u001b[0m\n",
            "[  2%] \u001b[34m\u001b[1mPerforming configure step for 'cereal'\u001b[0m\n",
            "loading initial cache file /content/flashlight/build/cereal/tmp/cereal-cache-Release.cmake\n",
            "-- Configuring done\n",
            "-- Generating done\n",
            "-- Build files have been written to: /content/flashlight/build/cereal/src/cereal\n",
            "[  2%] \u001b[34m\u001b[1mPerforming build step for 'cereal'\u001b[0m\n",
            "[  2%] \u001b[34m\u001b[1mNo install step for 'cereal'\u001b[0m\n",
            "[  2%] \u001b[34m\u001b[1mCompleted 'cereal'\u001b[0m\n",
            "[  3%] Built target cereal\n",
            "[  3%] \u001b[34m\u001b[1mPerforming update step for 'stb'\u001b[0m\n",
            "[  3%] \u001b[34m\u001b[1mNo configure step for 'stb'\u001b[0m\n",
            "[  4%] \u001b[34m\u001b[1mNo build step for 'stb'\u001b[0m\n",
            "[  5%] \u001b[34m\u001b[1mNo install step for 'stb'\u001b[0m\n",
            "[  5%] \u001b[34m\u001b[1mCompleted 'stb'\u001b[0m\n",
            "[  7%] Built target stb\n",
            "[ 22%] Built target fl-libraries\n",
            "[ 72%] Built target flashlight\n",
            "[ 73%] Built target flashlight-app-common\n",
            "[ 91%] Built target flashlight-app-asr\n",
            "\u001b[35m\u001b[1mScanning dependencies of target mling_large\u001b[0m\n",
            "[ 92%] \u001b[32mBuilding CXX object CMakeFiles/mling_large.dir/mling_large.cpp.o\u001b[0m\n",
            "[ 92%] \u001b[32m\u001b[1mLinking CXX shared module mling_large.so\u001b[0m\n",
            "[ 92%] Built target mling_large\n",
            "[ 93%] Built target fl_asr_sfx_apply\n",
            "[ 94%] Built target fl_asr_test\n",
            "[ 95%] Built target fl_asr_decode\n",
            "[ 96%] Built target fl_asr_train\n",
            "[ 97%] Built target fl_asr_tutorial_inference_ctc\n",
            "[ 98%] Built target fl_asr_tutorial_finetune_ctc\n",
            "[ 99%] Built target fl_asr_voice_activity_detection_ctc\n",
            "[100%] Built target fl_asr_align\n",
            "[100%] Built target fl_asr_arch_benchmark\n",
            "/content\n"
          ]
        }
      ]
    },
    {
      "cell_type": "markdown",
      "source": [
        "#### Pre-compiled\n",
        "\n",
        "If we have a pre-compiled flashlight, we only need to set the env varibales and install the system deps."
      ],
      "metadata": {
        "id": "JJY8iUbqHFOR"
      }
    },
    {
      "cell_type": "code",
      "source": [
        "# Fetch a pre-compiled flashlight from GDrive\n",
        "from google.colab import drive\n",
        "\n",
        "drive.mount('/gdrive')\n",
        "\n",
        "!cp '/gdrive/MyDrive/Colab Notebooks/STT-artifacts/$backend-flashlight.tar.gz' /content/"
      ],
      "metadata": {
        "id": "9AKcubTVjj3f",
        "colab": {
          "base_uri": "https://localhost:8080/"
        },
        "outputId": "653a6a48-ebbb-4503-bf58-cb3c745f6941"
      },
      "execution_count": null,
      "outputs": [
        {
          "output_type": "stream",
          "name": "stdout",
          "text": [
            "Mounted at /gdrive\n"
          ]
        }
      ]
    },
    {
      "cell_type": "code",
      "source": [
        "# extract the pre-compiled flashlight\n",
        "!tar xzf $backend-flashlight.tar.gz\n",
        "\n",
        "# set env. vars\n",
        "%env MKLROOT=/opt/intel/mkl\n",
        "%env ArrayFire_DIR=/opt/arrayfire/share/ArrayFire/cmake\n",
        "%env DNNL_DIR=/opt/dnnl/dnnl_lnx_2.0.0_cpu_iomp/lib/cmake/dnnl\n",
        "\n",
        "# install system deps\n",
        "!source flashlight/scripts/colab/colab_install_deps.sh"
      ],
      "metadata": {
        "id": "HKXJtxg78rko"
      },
      "execution_count": null,
      "outputs": []
    },
    {
      "cell_type": "markdown",
      "source": [
        "### Models "
      ],
      "metadata": {
        "id": "hEYDiY2OaXwn"
      }
    },
    {
      "cell_type": "code",
      "source": [
        "MODELS_DIR = \"models/wav2vec\"\n",
        "\n",
        "!mkdir -p $MODELS_DIR\n",
        "\n",
        "# Downlaod the model checkpoint\n",
        "!wget \"https://dl.fbaipublicfiles.com/wav2letter/mling_pl/checkpoint_cv_finetune.bin\" -P $MODELS_DIR -qq\n",
        "\n",
        "# Download the tokens\n",
        "!wget \"https://dl.fbaipublicfiles.com/wav2letter/mling_pl/tokens-all.lst\" -P $MODELS_DIR -qq"
      ],
      "metadata": {
        "id": "pkXAoRJDUCFX"
      },
      "execution_count": null,
      "outputs": []
    },
    {
      "cell_type": "markdown",
      "source": [
        "### Helpers"
      ],
      "metadata": {
        "id": "i96ufI3Ucqsc"
      }
    },
    {
      "cell_type": "code",
      "source": [
        "cmd = \"\"\"\n",
        "./flashlight/build/bin/asr/fl_asr_test \\\n",
        "    --test={audio_list} \\\n",
        "    --am={audio_model} \\\n",
        "    --tokens={tokens} \\\n",
        "    --arch={arch} \\\n",
        "    --lexicon={lexicon} \\\n",
        "    --datadir=''  \\\n",
        "    --emission_dir=''  \\\n",
        "    --show\n",
        "\"\"\"\n",
        "\n",
        "\n",
        "def run_inference(\n",
        "    audio_fpath, \n",
        "    am_fpath=\"./models/wav2vec/checkpoint_cv_finetune.bin\",\n",
        "    tokens_fpath=\"./models/wav2vec/tokens-all.lst\", \n",
        "    arch=\"./flashlight/build/mling_large.so\",\n",
        "    lexicon_fpath=\"./lexicon.txt\"\n",
        "):\n",
        "    with tempfile.NamedTemporaryFile(mode='w', suffix='.lst') as f:\n",
        "        duration = float(check_output(\"soxi -D \" + audio_fpath, shell=True))\n",
        "        f.write(\"%d %s %s\\n\" % (0, audio_fpath, duration))\n",
        "        f.seek(0)  # 📣 important so the next process can read the first line!\n",
        "\n",
        "        _cmd = cmd.format(\n",
        "            audio_list=f.name,\n",
        "            audio_model=am_fpath,\n",
        "            tokens=tokens_fpath,\n",
        "            arch=arch,\n",
        "            lexicon=lexicon_fpath\n",
        "        )\n",
        "        proc = create_process(_cmd)\n",
        "        return read_current_output(proc)\n"
      ],
      "metadata": {
        "id": "u7nuxTMmb0ZO"
      },
      "execution_count": null,
      "outputs": []
    },
    {
      "cell_type": "markdown",
      "source": [
        "### Audio recording"
      ],
      "metadata": {
        "id": "l-tX8HorrEy2"
      }
    },
    {
      "cell_type": "code",
      "source": [
        "from flashlight.scripts.colab.record import record_audio\n",
        "\n",
        "audio_name = \"/content/test_audio\"\n",
        "audio_fpath = f\"{audio_name}.wav\"\n",
        "record_audio(audio_name)\n",
        "\n",
        "with open(\"audio.lst\", \"w\") as f:\n",
        "    duration = float(check_output(\"soxi -D \" + audio_fpath, shell=True))\n",
        "    f.write(\"%d %s %s\\n\" % (0, audio_fpath, duration))"
      ],
      "metadata": {
        "id": "yIuxRO13co43",
        "colab": {
          "base_uri": "https://localhost:8080/",
          "height": 152
        },
        "outputId": "a0df97c4-0a44-4608-9f09-271dd434353c"
      },
      "execution_count": null,
      "outputs": [
        {
          "output_type": "display_data",
          "data": {
            "text/plain": [
              "<IPython.core.display.HTML object>"
            ],
            "text/html": [
              "\n",
              "<script>\n",
              "var recordButton = document.createElement(\"BUTTON\");\n",
              "recordButton.appendChild(\n",
              "  document.createTextNode(\"Press to start recording\")\n",
              ");\n",
              "restyleButtonBeforeRecording();\n",
              "\n",
              "var my_div = document.createElement(\"DIV\");\n",
              "my_div.appendChild(recordButton);\n",
              "\n",
              "document.body.appendChild(my_div);\n",
              "\n",
              "var base64data = 0;\n",
              "var reader;\n",
              "var recorder, gumStream;\n",
              "\n",
              "function restyleButtonBeforeRecording() {\n",
              "  recordButton.style.width = '270px';\n",
              "  recordButton.style.height = '90';\n",
              "  recordButton.style.padding = '25px';\n",
              "  recordButton.style.backgroundColor = '#4CAF50';\n",
              "  recordButton.style.fontSize = '18px';\n",
              "}\n",
              "\n",
              "function restyleButtonForRecording() {\n",
              "  recordButton.style.backgroundColor = '#008CBA';\n",
              "  recordButton.innerText = \"Recording... press to stop\";\n",
              "}\n",
              "\n",
              "function restyleButtonForSaving() {\n",
              "  recordButton.style.backgroundColor = '#b34d4d';\n",
              "  recordButton.innerText = \"Saving... please wait!\"\n",
              "}\n",
              "\n",
              "var handleSuccess = function(stream) {\n",
              "  gumStream = stream;\n",
              "  recorder = new MediaRecorder(stream);\n",
              "  recorder.ondataavailable = function(e) {\n",
              "    var url = URL.createObjectURL(e.data);\n",
              "    var preview = document.createElement('audio');\n",
              "    preview.controls = true;\n",
              "    preview.src = url;\n",
              "    document.body.appendChild(preview);\n",
              "\n",
              "    reader = new FileReader();\n",
              "    reader.readAsDataURL(e.data);\n",
              "    reader.onloadend = function() {\n",
              "      base64data = reader.result;\n",
              "      //console.log(\"Inside FileReader:\" + base64data);\n",
              "    }\n",
              "  };\n",
              "  recorder.start();\n",
              "  };\n",
              "\n",
              "\n",
              "function toggleRecording() {\n",
              "  if (recorder && recorder.state == \"recording\") {\n",
              "      recorder.stop();\n",
              "      gumStream.getAudioTracks()[0].stop();\n",
              "      restyleButtonForSaving();\n",
              "  }\n",
              "}\n",
              "\n",
              "// https://stackoverflow.com/a/951057\n",
              "function sleep(ms) {\n",
              "  return new Promise(resolve => setTimeout(resolve, ms));\n",
              "}\n",
              "\n",
              "var data = new Promise(resolve=>{\n",
              "  recordButton.onclick = () => {\n",
              "    restyleButtonForRecording();\n",
              "    recordButton.onclick = () => {\n",
              "      toggleRecording();\n",
              "      sleep(2000).then(() => {\n",
              "        // wait 2000ms for the data to be available...\n",
              "        // ideally this should use something like await...\n",
              "        // console.log(\"Inside data:\" + base64data)\n",
              "        resolve(base64data.toString());\n",
              "      });\n",
              "    };\n",
              "    navigator.mediaDevices.getUserMedia({audio: true}).then(handleSuccess);\n",
              "  };\n",
              "});\n",
              "\n",
              "</script>\n"
            ]
          },
          "metadata": {}
        }
      ]
    },
    {
      "cell_type": "markdown",
      "source": [
        "### Inference"
      ],
      "metadata": {
        "id": "c5Qj0mIlcnpV"
      }
    },
    {
      "cell_type": "code",
      "source": [
        "# Create a dummy lexicon (if we use greedy decoding is not used...):\n",
        "!echo 'a a |' > lexicon.txt"
      ],
      "metadata": {
        "id": "ZSGKMnpfkFyM"
      },
      "execution_count": null,
      "outputs": []
    },
    {
      "cell_type": "code",
      "source": [
        "# Wrapped in python helpers\n",
        "for transcript in run_inference(\"/content/test_audio.wav\"):\n",
        "    print(transcript)"
      ],
      "metadata": {
        "id": "7JmD2SV9eWun",
        "colab": {
          "base_uri": "https://localhost:8080/"
        },
        "outputId": "87058466-7c32-462a-f5e2-e1781506d8c3"
      },
      "execution_count": null,
      "outputs": [
        {
          "output_type": "stream",
          "name": "stdout",
          "text": [
            "This is a ie song sanet.\n"
          ]
        }
      ]
    },
    {
      "cell_type": "code",
      "source": [
        "# Directly form command line\n",
        "!/content/flashlight/build/bin/asr/fl_asr_test \\\n",
        "    --test=audio.lst \\\n",
        "    --am=/content/models/wav2vec/checkpoint_cv_finetune.bin \\\n",
        "    --tokens=/content/models/wav2vec/tokens-all.lst \\\n",
        "    --arch=flashlight/build/mling_large.so \\\n",
        "    --lexicon=lexicon.txt \\\n",
        "    --datadir=''  \\\n",
        "    --emission_dir='' \\\n",
        "    --show\n",
        "    # --logtostderr=1 \\\n",
        "    # --minloglevel=0"
      ],
      "metadata": {
        "id": "B-pAgH-Hc5y3"
      },
      "execution_count": null,
      "outputs": []
    },
    {
      "cell_type": "markdown",
      "source": [
        "## 🤫 OpenAI whisper\n",
        "\n",
        "This section uses [OpenAI's whisper](https://github.com/openai/whisper) model.\n",
        "\n",
        "This model present a series of advantages compared to the previos approaches:\n",
        "\n",
        " - multi-language\n",
        " - multi-task model, i.e.: detects the spoken language and direct translation\n",
        " - no-speech detection\n",
        "\n"
      ],
      "metadata": {
        "id": "HXjXNS2YxYT4"
      }
    },
    {
      "cell_type": "markdown",
      "source": [
        "### Setup"
      ],
      "metadata": {
        "id": "OTgegNvJyNLx"
      }
    },
    {
      "cell_type": "code",
      "source": [
        "MODEL = \"whisper\"\n",
        "!apt install -q ffmpeg\n",
        "!pip install -q git+https://github.com/openai/whisper.git "
      ],
      "metadata": {
        "id": "RDFoBjqWxYjC"
      },
      "execution_count": null,
      "outputs": []
    },
    {
      "cell_type": "markdown",
      "source": [
        "### Models\n"
      ],
      "metadata": {
        "id": "5ldp1R4R0wmR"
      }
    },
    {
      "cell_type": "code",
      "source": [
        "import whisper\n",
        "\n",
        "\n",
        "model_name = 'medium' #@param [\"tiny\", \"base\", \"small\", \"medium\", \"large\"]\n",
        "\n",
        "print(f\"Loading whisper model '{model_name}'\")\n",
        "model = whisper.load_model(model_name)"
      ],
      "metadata": {
        "colab": {
          "base_uri": "https://localhost:8080/"
        },
        "id": "zsx5efxM0Fex",
        "outputId": "db772eb8-182c-49eb-effe-afe933d0b0a5"
      },
      "execution_count": 5,
      "outputs": [
        {
          "output_type": "stream",
          "name": "stdout",
          "text": [
            "Loading whisper model 'medium'\n"
          ]
        }
      ]
    },
    {
      "cell_type": "code",
      "source": [
        "def run_inference(mp3_file:str):\n",
        "    global model\n",
        "    res = model.transcribe(mp3_file)\n",
        "    return res[\"text\"]"
      ],
      "metadata": {
        "id": "2g3Kmt2x2RHO"
      },
      "execution_count": 6,
      "outputs": []
    },
    {
      "cell_type": "markdown",
      "source": [
        "## 🙌 BONUS: Telegram Bot 🤖\n",
        "\n",
        "We run a simple Telegram Bot as a PoC of TTS as a service via audio messages using [pyTelegramBotAPI](https://github.com/eternnoir/pyTelegramBotAPI)."
      ],
      "metadata": {
        "id": "h5YBRp_p7Dcx"
      }
    },
    {
      "cell_type": "code",
      "source": [
        "!pip install -qq -U \\\n",
        "    pyTelegramBotAPI \\\n",
        "    rich"
      ],
      "metadata": {
        "id": "rJB2CiViAPGT"
      },
      "execution_count": null,
      "outputs": []
    },
    {
      "cell_type": "code",
      "source": [
        "import datetime as dt\n",
        "import telebot\n",
        "import requests\n",
        "\n",
        "from rich import print as pprint\n",
        "\n",
        "\n",
        "BOT_TOKEN = \"5191934564:AAG7gnBaxLRi_g_GOkKAbvKZVH7MATD17hs\"\n",
        "\n",
        "bot = telebot.TeleBot(BOT_TOKEN, parse_mode=\"MARKDOWN\")\n",
        "\n",
        "\n",
        "def handle_audio_message(message):\n",
        "\n",
        "    now = \"  \".join(dt.datetime.now().isoformat().split(\".\")[0].split(\"T\"))\n",
        "\n",
        "    if message.content_type == \"voice\":\n",
        "        msg = f\"👂 Received a {message.voice.duration}s voice note. Transcribing...\"\n",
        "        print(msg)\n",
        "        ack_reply = bot.send_message(message.chat.id, msg)\n",
        "        file_info = bot.get_file(message.voice.file_id)\n",
        "    else:\n",
        "        bot.reply_to(message, f\"😓 Sorry can't handle audio clips yet...\")\n",
        "        file_info = bot.get_file(message.audio.file_id)\n",
        "    \n",
        "    try:\n",
        "        # Fetch the audio file    \n",
        "        audio_file = requests.get(\n",
        "            f'https://api.telegram.org/file/bot{BOT_TOKEN}/{file_info.file_path}'\n",
        "        )\n",
        "\n",
        "        with tempfile.NamedTemporaryFile(mode='wb', suffix='.ogg') as f:\n",
        "            # write audio to disk\n",
        "            in_file = f.name\n",
        "            f.write(audio_file.content)\n",
        "\n",
        "            if MODEL == \"W2L\":\n",
        "                # Convert to wav\n",
        "                out_file = f.name.replace(\".ogg\", \".wav\")\n",
        "                create_process(\n",
        "                    f'ffmpeg -i {in_file} -acodec pcm_s16le -ar 16000 {out_file}'\n",
        "                ).wait()\n",
        "            elif MODEL == \"whisper\":\n",
        "                # Convert to mp3\n",
        "                out_file = f.name.replace(\".ogg\", \".mp3\")\n",
        "                create_process(\n",
        "                    f'ffmpeg -i {in_file} {out_file}'\n",
        "                ).wait()\n",
        "\n",
        "            # transcribe\n",
        "            transcript = run_inference(out_file)\n",
        "            if isinstance(transcript, list):\n",
        "                transcript = \"\\n\".join(transcript)\n",
        "\n",
        "            text = f\"**{now}**\\n\\n\" + transcript\n",
        "\n",
        "            # Delete ack message and send transcript as a reply\n",
        "            bot.delete_message(message.chat.id, ack_reply.id)\n",
        "            bot.reply_to(message, text)\n",
        "\n",
        "    except Exception as e:\n",
        "        print(f\"🚨 Error! {e}\")\n",
        "        bot.reply_to(message, f\"🚨 Error! {e}\")\n",
        "\n",
        "\n",
        "@bot.message_handler(commands=['start', 'help'])\n",
        "def send_welcome(message):\n",
        "\tbot.reply_to(message, \"Hey, let's start. What are your thoughts?\")\n",
        "\n",
        "\n",
        "@bot.message_handler(func=lambda message: True)\n",
        "def echo_all(message):\n",
        "\tbot.reply_to(message, message.text)\n",
        "\n",
        "\n",
        "@bot.message_handler(content_types=['audio', 'voice'])\n",
        "def handle_docs_audio(message):\n",
        "    handle_audio_message(message)\n",
        "\n",
        "\n",
        "# getMe\n",
        "me = bot.get_me()\n",
        "print(f\"Running bot with ID: {me.id} | Name: {me.username}\")\n",
        "\n",
        "# Run polling\n",
        "bot.infinity_polling()"
      ],
      "metadata": {
        "colab": {
          "base_uri": "https://localhost:8080/"
        },
        "id": "xvCpjfMi7KaJ",
        "outputId": "33c1c5d0-6862-42c1-b54b-af88b0eef030"
      },
      "execution_count": null,
      "outputs": [
        {
          "output_type": "stream",
          "name": "stdout",
          "text": [
            "Running bot with ID: 5191934564 | Name: pensabox_bot\n",
            "👂 Received a 2s voice note. Transcribing...\n",
            "👂 Received a 3s voice note. Transcribing...\n",
            "👂 Received a 3s voice note. Transcribing...\n",
            "👂 Received a 9s voice note. Transcribing...\n",
            "👂 Received a 13s voice note. Transcribing...\n"
          ]
        }
      ]
    },
    {
      "cell_type": "code",
      "source": [
        "%%bash\n",
        "for i in *.ogg; do\n",
        "    ffmpeg -i \"$i\"-acodec pcm_s16le \"${i%ogg}wav\"\n",
        "done"
      ],
      "metadata": {
        "id": "5Z1jtiy8KrOU"
      },
      "execution_count": null,
      "outputs": []
    }
  ]
}